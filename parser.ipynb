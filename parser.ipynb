{
 "cells": [
  {
   "cell_type": "markdown",
   "source": "Скраппинг",
   "metadata": {
    "collapsed": false
   },
   "id": "c9375798baa8593d"
  },
  {
   "cell_type": "code",
   "source": [
    "import requests      # Для запросов по API\n",
    "import json          # Для обработки полученных результатов\n",
    "import time          # Для задержки между запросами\n",
    "import datetime\n",
    "import numpy as np\n",
    "import pathlib"
   ],
   "metadata": {
    "collapsed": false,
    "ExecuteTime": {
     "end_time": "2024-05-07T22:40:16.952835Z",
     "start_time": "2024-05-07T22:40:16.872281Z"
    }
   },
   "id": "df8e4eb905ab2d85",
   "outputs": [],
   "execution_count": 1
  },
  {
   "metadata": {
    "ExecuteTime": {
     "end_time": "2024-05-06T23:08:40.299421Z",
     "start_time": "2024-05-06T23:08:40.285420Z"
    }
   },
   "cell_type": "code",
   "source": [
    "def top_k_industries(k):\n",
    "    url_industry = 'https://api.hh.ru/industries'\n",
    "    url_vacancies = 'https://api.hh.ru/vacancies'\n",
    "    params = {\n",
    "    }\n",
    "    headers = {\n",
    "        'HH-User-Agent': 'my-app/0.0.1'\n",
    "    }\n",
    "    industries_response = requests.get(url_industry, params=params, headers=headers)\n",
    "    industries_response.raise_for_status()\n",
    "    industries_response = industries_response.json()\n",
    "    industries = [(element[\"id\"], element[\"name\"]) for element in industries_response]\n",
    "    start_date = datetime.datetime(2023, 1, 1)\n",
    "    top_tier_industries = []\n",
    "    for industry_id, name in industries:\n",
    "        params_for_industry = {\n",
    "            'industry_id': industry_id,\n",
    "            'date_from': start_date.strftime('%Y-%m-%d'),\n",
    "            'area': 1,\n",
    "            'only_with_salary': True,\n",
    "            'currency': \"RUR\"\n",
    "        }\n",
    "        header_for_industry = {\n",
    "            'HH-User-Agent': 'my-app/0.0.1'\n",
    "        }\n",
    "        response_industry = requests.get(url_vacancies, params=params_for_industry, headers=header_for_industry)\n",
    "        response_industry.raise_for_status()\n",
    "        if response_industry.status_code == 200:\n",
    "            \n",
    "            response_industry = response_industry.json()\n",
    "            if len(top_tier_industries) < k:\n",
    "                top_tier_industries.append((response_industry[\"found\"], id, name))\n",
    "            else:\n",
    "                found = [i[0] for i in top_tier_industries]\n",
    "                idx_min = np.argmin(found)\n",
    "                if top_tier_industries[idx_min][0] < response_industry[\"found\"]:\n",
    "                    top_tier_industries[idx_min] = (response_industry[\"found\"], id, name)\n",
    "        time.sleep(np.random.uniform(0.5, 2.0))\n",
    "    return top_tier_industries"
   ],
   "id": "aef719cbf07173fe",
   "outputs": [],
   "execution_count": 3
  },
  {
   "cell_type": "code",
   "id": "initial_id",
   "metadata": {
    "collapsed": true,
    "ExecuteTime": {
     "end_time": "2024-05-06T23:08:40.316048Z",
     "start_time": "2024-05-06T23:08:40.303416Z"
    }
   },
   "source": [
    "def get_vacancies(city_id, number_of_vacancies, industry_id):\n",
    "    url = 'https://api.hh.ru/vacancies'\n",
    "    headers = {\n",
    "        'HH-User-Agent': 'my-app/0.0.1'\n",
    "    }\n",
    "    vacancies = None\n",
    "    start_date = datetime.datetime(2023, 1, 1)\n",
    "    for i in range(number_of_vacancies//100):\n",
    "        params = {\n",
    "            'area': city_id,\n",
    "            'per_page': 100,\n",
    "            'page': i,\n",
    "            'date_from': start_date.strftime('%Y-%m-%d'),\n",
    "            'industry': industry_id,\n",
    "            'only_with_salary': True, \n",
    "            'currency': \"RUR\"\n",
    "        }\n",
    "        response = requests.get(url, params=params, headers=headers)\n",
    "        response.raise_for_status()\n",
    "        if vacancies is None:\n",
    "            vacancies = response.json()\n",
    "        else:\n",
    "            vacancies['items'].extend(response.json()['items'])\n",
    "        time.sleep(np.random.uniform(0.5, 2.0))\n",
    "        \n",
    "    for vac in vacancies['items']:  \n",
    "        for key in (\"area\", \"type\", \"response_url\", \"sort_point_distance\", \"published_at\", \"created_at\", \"archived\", \"apply_alternate_url\", \"brand_snippet\",\n",
    "        \"branding\", \"show_logo_in_search\", \"insider_interview\", \"url\", \"alternate_url\", \"relations\", \"contacts\", \"adv_context\", \"adv_response_url\"):\n",
    "            if key in vac.keys():\n",
    "                vac.pop(key)\n",
    "        vac[\"employer\"] = {\"trusted\":vac[\"employer\"][\"trusted\"]}\n",
    "        \n",
    "            \n",
    "    return vacancies[\"items\"]"
   ],
   "outputs": [],
   "execution_count": 4
  },
  {
   "metadata": {
    "ExecuteTime": {
     "end_time": "2024-05-07T22:41:50.380696Z",
     "start_time": "2024-05-07T22:41:50.374020Z"
    }
   },
   "cell_type": "code",
   "source": [
    "def metro_stations_in_city(city_id):\n",
    "    url_stations = f'https://api.hh.ru/metro/{city_id}'\n",
    "    params = {\n",
    "    }\n",
    "    headers = {\n",
    "        'HH-User-Agent': 'my-app/0.0.1'\n",
    "    }\n",
    "    stations_response = requests.get(url_stations, params=params, headers=headers)\n",
    "    stations_response.raise_for_status()\n",
    "    stations_response = stations_response.json()\n",
    "    np_stations = np.empty((0,2))\n",
    "    for line in stations_response[\"lines\"]:\n",
    "        for station in line[\"stations\"]:\n",
    "            np_stations = np.append(np_stations, np.array([station[\"lat\"], station[\"lng\"]], ndmin=2), axis=0)\n",
    "    return np_stations"
   ],
   "id": "ecf1019cacd87cc1",
   "outputs": [],
   "execution_count": 6
  },
  {
   "cell_type": "code",
   "source": "top_industries = top_k_industries(3)",
   "metadata": {
    "collapsed": false,
    "ExecuteTime": {
     "end_time": "2024-05-06T23:09:48.640708Z",
     "start_time": "2024-05-06T23:08:40.321050Z"
    }
   },
   "id": "56f6295ec9eb6a58",
   "outputs": [],
   "execution_count": 5
  },
  {
   "metadata": {
    "ExecuteTime": {
     "end_time": "2024-05-06T23:09:48.653024Z",
     "start_time": "2024-05-06T23:09:48.643717Z"
    }
   },
   "cell_type": "code",
   "source": "print(top_industries)",
   "id": "f74ae9a99ebcef5e",
   "outputs": [
    {
     "name": "stdout",
     "output_type": "stream",
     "text": [
      "[(163363, '5', 'Перевозки, логистика, склад, ВЭД'), (163363, '11', 'СМИ, маркетинг, реклама, BTL, PR, дизайн, продюсирование'), (163363, '13', 'Строительство, недвижимость, эксплуатация, проектирование')]\n"
     ]
    }
   ],
   "execution_count": 6
  },
  {
   "metadata": {
    "ExecuteTime": {
     "end_time": "2024-05-06T23:09:48.835785Z",
     "start_time": "2024-05-06T23:09:48.655568Z"
    }
   },
   "cell_type": "code",
   "source": [
    "import os\n",
    "\n",
    "def clear_directory(directory):\n",
    "    # Check if the directory exists\n",
    "    if os.path.exists(directory):\n",
    "        # List all files and subdirectories in the directory\n",
    "        for file_name in os.listdir(directory):\n",
    "            # Construct the full path to the file or subdirectory\n",
    "            full_path = os.path.join(directory, file_name)\n",
    "            # Check if it's a file\n",
    "            if os.path.isfile(full_path):\n",
    "                # Delete the file\n",
    "                os.remove(full_path)\n",
    "            # If it's a directory, recursively clear it\n",
    "            elif os.path.isdir(full_path):\n",
    "                clear_directory(full_path)\n",
    "        # After deleting all files and subdirectories, remove the directory itself\n",
    "        os.rmdir(directory)\n",
    "        print(f\"Directory '{directory}' cleared successfully.\")\n",
    "    else:\n",
    "        print(f\"Directory '{directory}' does not exist.\")\n"
   ],
   "id": "c155d57ec173d728",
   "outputs": [],
   "execution_count": 7
  },
  {
   "metadata": {
    "ExecuteTime": {
     "end_time": "2024-05-06T23:09:48.861856Z",
     "start_time": "2024-05-06T23:09:48.839788Z"
    }
   },
   "cell_type": "code",
   "source": [
    "directory_path = \"datasets\"\n",
    "clear_directory(directory_path)"
   ],
   "id": "e29c78a997f3b5f1",
   "outputs": [
    {
     "name": "stdout",
     "output_type": "stream",
     "text": [
      "Directory 'datasets' cleared successfully.\n"
     ]
    }
   ],
   "execution_count": 8
  },
  {
   "metadata": {
    "ExecuteTime": {
     "end_time": "2024-05-06T23:09:48.877309Z",
     "start_time": "2024-05-06T23:09:48.864824Z"
    }
   },
   "cell_type": "code",
   "source": "pathlib.Path('datasets').mkdir(parents=True, exist_ok=True)",
   "id": "3eb76526773356d9",
   "outputs": [],
   "execution_count": 9
  },
  {
   "metadata": {
    "ExecuteTime": {
     "end_time": "2024-05-06T23:12:14.097847Z",
     "start_time": "2024-05-06T23:09:48.881307Z"
    }
   },
   "cell_type": "code",
   "source": [
    "for ind in top_industries:\n",
    "    with open(f\"datasets/industry({ind[2]}).json\", \"w\", encoding='utf-8') as outfile:\n",
    "        json.dump(get_vacancies(1, 2000, ind[1]), outfile, ensure_ascii=False, indent=4)"
   ],
   "id": "6d8546c5792b983d",
   "outputs": [],
   "execution_count": 10
  },
  {
   "metadata": {
    "ExecuteTime": {
     "end_time": "2024-05-07T22:42:29.798473Z",
     "start_time": "2024-05-07T22:42:29.346391Z"
    }
   },
   "cell_type": "code",
   "source": "np.save(\"src_files/stations.npy\", metro_stations_in_city(1))",
   "id": "5c3855c6797188e1",
   "outputs": [],
   "execution_count": 8
  },
  {
   "metadata": {},
   "cell_type": "code",
   "outputs": [],
   "execution_count": null,
   "source": "",
   "id": "dc47b1a9beb24a4a"
  }
 ],
 "metadata": {
  "kernelspec": {
   "display_name": "Python 3",
   "language": "python",
   "name": "python3"
  },
  "language_info": {
   "codemirror_mode": {
    "name": "ipython",
    "version": 2
   },
   "file_extension": ".py",
   "mimetype": "text/x-python",
   "name": "python",
   "nbconvert_exporter": "python",
   "pygments_lexer": "ipython2",
   "version": "2.7.6"
  }
 },
 "nbformat": 4,
 "nbformat_minor": 5
}
